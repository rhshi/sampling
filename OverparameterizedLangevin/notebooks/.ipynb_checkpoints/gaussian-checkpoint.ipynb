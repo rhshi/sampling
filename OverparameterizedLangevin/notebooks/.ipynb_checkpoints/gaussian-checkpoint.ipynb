{
 "cells": [
  {
   "cell_type": "code",
   "execution_count": 4,
   "id": "c96a5ca9",
   "metadata": {},
   "outputs": [],
   "source": [
    "using OverparameterizedLangevin, Plots"
   ]
  },
  {
   "cell_type": "code",
   "execution_count": 7,
   "id": "7852cf19",
   "metadata": {},
   "outputs": [
    {
     "data": {
      "text/plain": [
       "Plots.PlotlyJSBackend()"
      ]
     },
     "execution_count": 7,
     "metadata": {},
     "output_type": "execute_result"
    }
   ],
   "source": [
    "plotlyjs()"
   ]
  },
  {
   "cell_type": "code",
   "execution_count": null,
   "id": "d0e54694",
   "metadata": {},
   "outputs": [],
   "source": []
  },
  {
   "cell_type": "raw",
   "id": "8630e99c",
   "metadata": {},
   "source": []
  },
  {
   "cell_type": "code",
   "execution_count": 8,
   "id": "dcbf9a52",
   "metadata": {},
   "outputs": [],
   "source": [
    "A = [2 ;; 0];\n",
    "b = [1];"
   ]
  },
  {
   "cell_type": "code",
   "execution_count": 9,
   "id": "64294359",
   "metadata": {},
   "outputs": [],
   "source": [
    "V(x) = 0.5*norm(A*x-b)^2\n",
    "Vgrad(x) = A'*(A*x-b);\n",
    "f = make_f(Vgrad);"
   ]
  },
  {
   "cell_type": "code",
   "execution_count": null,
   "id": "0bb92fce",
   "metadata": {},
   "outputs": [],
   "source": []
  }
 ],
 "metadata": {
  "@webio": {
   "lastCommId": "312911c21c42400391720540dcf2482c",
   "lastKernelId": "9035cbec-65bd-4250-b77d-45b83ca01551"
  },
  "kernelspec": {
   "display_name": "Julia 1.9.0",
   "language": "julia",
   "name": "julia-1.9"
  },
  "language_info": {
   "file_extension": ".jl",
   "mimetype": "application/julia",
   "name": "julia",
   "version": "1.9.0"
  }
 },
 "nbformat": 4,
 "nbformat_minor": 5
}
